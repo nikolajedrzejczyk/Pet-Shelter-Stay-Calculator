{
  "nbformat": 4,
  "nbformat_minor": 0,
  "metadata": {
    "colab": {
      "provenance": []
    },
    "kernelspec": {
      "name": "python3",
      "display_name": "Python 3"
    },
    "language_info": {
      "name": "python"
    }
  },
  "cells": [
    {
      "cell_type": "code",
      "execution_count": null,
      "metadata": {
        "id": "KtXnZFSsgBmn"
      },
      "outputs": [],
      "source": [
        "# Potrzebne biblioteki\n",
        "import matplotlib.pyplot as plt\n",
        "import tensorflow as tf\n",
        "import pandas as pd\n",
        "import numpy as np\n",
        "\n",
        "import warnings\n",
        "warnings.filterwarnings('ignore')\n",
        "\n",
        "from tensorflow import keras\n",
        "from keras import layers\n",
        "from tensorflow.keras.models import Sequential\n",
        "from tensorflow.keras.layers import Activation, Dropout, Flatten, Dense\n",
        "from tensorflow.keras.layers import Conv2D, MaxPooling2D\n",
        "from tensorflow.keras.utils import image_dataset_from_directory\n",
        "from tensorflow.keras.preprocessing.image import ImageDataGenerator, load_img\n",
        "from tensorflow.keras.preprocessing import image_dataset_from_directory\n",
        "\n",
        "import os\n",
        "import matplotlib.image as mpimg\n",
        "from keras.preprocessing import image\n",
        "from zipfile import ZipFile\n",
        "from PIL import Image"
      ]
    },
    {
      "cell_type": "code",
      "source": [
        "# Dodanie folderu ze zdjęciami pobranymi na kaggle\n",
        "data_path = \"psy_i_koty.zip\"\n",
        "\n",
        "with ZipFile(data_path, 'r') as zip:\n",
        "    zip.extractall()\n",
        "    print(\".\")"
      ],
      "metadata": {
        "id": "q3eZxCpWQVFr"
      },
      "execution_count": null,
      "outputs": []
    },
    {
      "cell_type": "code",
      "source": [
        "path = 'psy_i_koty'\n",
        "classes = os.listdir(path)\n",
        "classes"
      ],
      "metadata": {
        "id": "O2U_mjmAQVI8"
      },
      "execution_count": null,
      "outputs": []
    },
    {
      "cell_type": "code",
      "source": [
        "# Przykładowe zdjęcia\n",
        "fig = plt.gcf()\n",
        "fig.set_size_inches(16, 16)\n",
        "\n",
        "cat_dir = os.path.join('psy_i_koty/Cat')\n",
        "dog_dir = os.path.join('psy_i_koty/Dog')\n",
        "cat_names = os.listdir(cat_dir)\n",
        "dog_names = os.listdir(dog_dir)\n",
        "\n",
        "pic_index = 210\n",
        "\n",
        "cat_images = [os.path.join(cat_dir, fname)\n",
        "              for fname in cat_names[pic_index-8:pic_index]]\n",
        "dog_images = [os.path.join(dog_dir, fname)\n",
        "              for fname in dog_names[pic_index-8:pic_index]]\n",
        "\n",
        "for i, img_path in enumerate(cat_images + dog_images):\n",
        "    sp = plt.subplot(4, 4, i+1)\n",
        "    sp.axis('Off')\n",
        "\n",
        "    img = mpimg.imread(img_path)\n",
        "    plt.imshow(img)\n",
        "\n",
        "plt.show()"
      ],
      "metadata": {
        "id": "ofZMtMAVQVLh"
      },
      "execution_count": null,
      "outputs": []
    },
    {
      "cell_type": "code",
      "source": [
        "# Liczba obrazów kotów\n",
        "image_extensions = ['.jpg', '.jpeg', '.png', '.gif']\n",
        "\n",
        "image_count = len([f for f in os.listdir(cat_dir)\n",
        "                    if os.path.isfile(os.path.join(cat_dir, f)) and\n",
        "                    any(f.endswith(ext) for ext in image_extensions)])\n",
        "\n",
        "print(f\"Number of images in the directory: {image_count}\")"
      ],
      "metadata": {
        "id": "WFktu8V8QVOI"
      },
      "execution_count": null,
      "outputs": []
    },
    {
      "cell_type": "code",
      "source": [
        "# Liczba obrazów psów\n",
        "image_extensions = ['.jpg', '.jpeg', '.png', '.gif']\n",
        "\n",
        "image_count = len([f for f in os.listdir(dog_dir)\n",
        "                    if os.path.isfile(os.path.join(dog_dir, f)) and\n",
        "                    any(f.endswith(ext) for ext in image_extensions)])\n",
        "\n",
        "print(f\"Number of images in the directory: {image_count}\")"
      ],
      "metadata": {
        "id": "ZAjS-_vfQVQ2"
      },
      "execution_count": null,
      "outputs": []
    },
    {
      "cell_type": "code",
      "source": [
        "# Dla kotów\n",
        "# Sprawdzanie, które zdjecia nie sa w formacie RGB\n",
        "\n",
        "from PIL import Image\n",
        "import os\n",
        "\n",
        "# Ścieżka do folderu z obrazami\n",
        "folder_path = '/content/psy_i_koty/Cat'\n",
        "\n",
        "# Lista plików, które nie są w formacie RGB\n",
        "non_rgb_images_cat = []\n",
        "\n",
        "# Przeglądanie każdego pliku w folderze\n",
        "for filename in os.listdir(folder_path):\n",
        "    file_path = os.path.join(folder_path, filename)\n",
        "    try:\n",
        "        with Image.open(file_path) as img:\n",
        "            # Sprawdzenie trybu obrazu\n",
        "            if img.mode != 'RGB':\n",
        "                non_rgb_images_cat.append(filename)\n",
        "                print(f\"{filename} - Tryb: {img.mode}\")\n",
        "    except IOError:\n",
        "        print(f\"Nie można otworzyć pliku: {filename}\")\n",
        "\n",
        "# Wyświetlenie wyników\n",
        "if non_rgb_images_cat:\n",
        "    print(\"\\nObrazy, które nie są w formacie RGB:\")\n",
        "    for img in non_rgb_images_cat:\n",
        "        print(img)\n",
        "else:\n",
        "    print(\"Wszystkie obrazy są w formacie RGB.\")\n"
      ],
      "metadata": {
        "id": "z23ramr9QVTh"
      },
      "execution_count": null,
      "outputs": []
    },
    {
      "cell_type": "code",
      "source": [
        "# Dla psów\n",
        "folder_path = '/content/psy_i_koty/Dog'\n",
        "\n",
        "non_rgb_images_dog = []\n",
        "\n",
        "for filename in os.listdir(folder_path):\n",
        "    file_path = os.path.join(folder_path, filename)\n",
        "    try:\n",
        "        with Image.open(file_path) as img:\n",
        "            if img.mode != 'RGB':\n",
        "                non_rgb_images_dog.append(filename)\n",
        "                print(f\"{filename} - Tryb: {img.mode}\")\n",
        "    except IOError:\n",
        "        print(f\"Nie można otworzyć pliku: {filename}\")\n",
        "\n",
        "if non_rgb_images_dog:\n",
        "    print(\"\\nObrazy, które nie są w formacie RGB:\")\n",
        "    for img in non_rgb_images_dog:\n",
        "        print(img)\n",
        "else:\n",
        "    print(\"Wszystkie obrazy są w formacie RGB.\")"
      ],
      "metadata": {
        "id": "dLxOp6qgQVWT"
      },
      "execution_count": null,
      "outputs": []
    },
    {
      "cell_type": "code",
      "source": [
        "print(len(non_rgb_images_cat))\n",
        "print(len(non_rgb_images_dog))"
      ],
      "metadata": {
        "id": "-DRgXBYzQVZL"
      },
      "execution_count": null,
      "outputs": []
    },
    {
      "cell_type": "code",
      "source": [
        "non_rgb_images_cat.append(\"666.jpg\")\n",
        "non_rgb_images_cat.append(\"Thumbs.db\")"
      ],
      "metadata": {
        "id": "HsKCAYxAQVbz"
      },
      "execution_count": null,
      "outputs": []
    },
    {
      "cell_type": "code",
      "source": [
        "# Dla kotów\n",
        "# Usuwanie zdjęć nie spełniających wymogów\n",
        "folder_path = \"/content/psy_i_koty/Cat\"\n",
        "\n",
        "for filename in non_rgb_images_cat:\n",
        "    sciezka_do_pliku = os.path.join(folder_path, filename)\n",
        "\n",
        "    if os.path.isfile(sciezka_do_pliku):\n",
        "        os.unlink(sciezka_do_pliku)  # Usuwanie pliku\n",
        "        print(f\"Plik {filename} został usunięty.\")\n",
        "    else:\n",
        "        print(f\"Wybacz, plik {filename} nie istnieje :(\")"
      ],
      "metadata": {
        "id": "QZ6J14uIQVfA"
      },
      "execution_count": null,
      "outputs": []
    },
    {
      "cell_type": "code",
      "source": [
        "non_rgb_images_dog.append(\"11702.jpg\")\n",
        "non_rgb_images_dog.append(\"Thumbs.db\")"
      ],
      "metadata": {
        "id": "ZnpmWAqZQVhy"
      },
      "execution_count": null,
      "outputs": []
    },
    {
      "cell_type": "code",
      "source": [
        "# Dla psów\n",
        "folder_path = \"/content/psy_i_koty/Dog\"\n",
        "\n",
        "for filename in non_rgb_images_dog:\n",
        "    sciezka_do_pliku = os.path.join(folder_path, filename)\n",
        "\n",
        "    if os.path.isfile(sciezka_do_pliku):\n",
        "        os.unlink(sciezka_do_pliku)  # Usuwanie pliku\n",
        "        print(f\"Plik {filename} został usunięty.\")\n",
        "    else:\n",
        "        print(f\"Wybacz, plik {filename} nie istnieje :(\")"
      ],
      "metadata": {
        "id": "7e6bO0_gQVk5"
      },
      "execution_count": null,
      "outputs": []
    },
    {
      "cell_type": "code",
      "source": [
        "# Dla kotów\n",
        "# Sprawdzenie, czy pozostały tylko zdjęcia w dobrym formacie\n",
        "folder_path = '/content/psy_i_koty/Cat'\n",
        "\n",
        "non_rgb_images_cat = []\n",
        "\n",
        "for filename in os.listdir(folder_path):\n",
        "    file_path = os.path.join(folder_path, filename)\n",
        "    try:\n",
        "        with Image.open(file_path) as img:\n",
        "            if img.mode != 'RGB':\n",
        "                non_rgb_images_cat.append(filename)\n",
        "                print(f\"{filename} - Tryb: {img.mode}\")\n",
        "    except IOError:\n",
        "        print(f\"Nie można otworzyć pliku: {filename}\")\n",
        "\n",
        "if non_rgb_images_cat:\n",
        "    print(\"\\nObrazy, które nie są w formacie RGB:\")\n",
        "    for img in non_rgb_images_cat:\n",
        "        print(img)\n",
        "else:\n",
        "    print(\"Wszystkie obrazy są w formacie RGB.\")"
      ],
      "metadata": {
        "id": "f38cY04VQVn5"
      },
      "execution_count": null,
      "outputs": []
    },
    {
      "cell_type": "code",
      "source": [
        "# Dla psów\n",
        "folder_path = '/content/psy_i_koty/Dog'\n",
        "\n",
        "non_rgb_images_dog = []\n",
        "\n",
        "for filename in os.listdir(folder_path):\n",
        "    file_path = os.path.join(folder_path, filename)\n",
        "    try:\n",
        "        with Image.open(file_path) as img:\n",
        "            if img.mode != 'RGB':\n",
        "                non_rgb_images_dog.append(filename)\n",
        "                print(f\"{filename} - Tryb: {img.mode}\")\n",
        "    except IOError:\n",
        "        print(f\"Nie można otworzyć pliku: {filename}\")\n",
        "\n",
        "if non_rgb_images_dog:\n",
        "    print(\"\\nObrazy, które nie są w formacie RGB:\")\n",
        "    for img in non_rgb_images_dog:\n",
        "        print(img)\n",
        "else:\n",
        "    print(\"Wszystkie obrazy są w formacie RGB.\")"
      ],
      "metadata": {
        "id": "so-QbBo3QVq6"
      },
      "execution_count": null,
      "outputs": []
    },
    {
      "cell_type": "code",
      "source": [
        "# Podział danych na zbiór uczący i testowy\n",
        "train_datagen  =  ImageDataGenerator(rescale = 1./255, validation_split  =  0.2)\n",
        "test_datagen  =  ImageDataGenerator(rescale = 1./255)\n",
        "\n",
        "train_generator  =  train_datagen.flow_from_directory(\n",
        "    'psy_i_koty',\n",
        "    target_size = (150, 150),\n",
        "    batch_size = 32,\n",
        "    class_mode = 'binary',\n",
        "    subset = 'training'\n",
        ")\n",
        "\n",
        "validation_generator  =  train_datagen.flow_from_directory(\n",
        "    'psy_i_koty',\n",
        "    target_size = (150, 150),\n",
        "    batch_size = 32,\n",
        "    class_mode = 'binary',\n",
        "    subset = 'validation'\n",
        ")"
      ],
      "metadata": {
        "id": "LXEtbN-oQVuH"
      },
      "execution_count": null,
      "outputs": []
    },
    {
      "cell_type": "code",
      "source": [
        "# Budowa modelu\n",
        "model = tf.keras.models.Sequential([\n",
        "    layers.Conv2D(32, (3, 3), activation = 'relu', input_shape = (150, 150, 3)),\n",
        "    layers.MaxPooling2D(2, 2),\n",
        "    layers.Conv2D(64, (3, 3), activation = 'relu'),\n",
        "    layers.MaxPooling2D(2, 2),\n",
        "    layers.Conv2D(64, (3, 3), activation = 'relu'),\n",
        "    layers.MaxPooling2D(2, 2),\n",
        "    layers.Conv2D(64, (3, 3), activation = 'relu'),\n",
        "    layers.MaxPooling2D(2, 2),\n",
        "\n",
        "    layers.Flatten(),\n",
        "    layers.Dense(512, activation = 'relu'),\n",
        "    layers.BatchNormalization(),\n",
        "    layers.Dense(512, activation = 'relu'),\n",
        "    layers.Dropout(0.1),\n",
        "    layers.BatchNormalization(),\n",
        "    layers.Dense(512, activation = 'relu'),\n",
        "    layers.Dropout(0.2),\n",
        "    layers.BatchNormalization(),\n",
        "    layers.Dense(1, activation = 'sigmoid')\n",
        "])"
      ],
      "metadata": {
        "id": "bJk8EnLAQVww"
      },
      "execution_count": null,
      "outputs": []
    },
    {
      "cell_type": "code",
      "source": [
        "keras.utils.plot_model(\n",
        "    model,\n",
        "    show_shapes = True,\n",
        "    show_dtype = True,\n",
        "    show_layer_activations = True\n",
        ")"
      ],
      "metadata": {
        "id": "zVOLjetxQV2I"
      },
      "execution_count": null,
      "outputs": []
    },
    {
      "cell_type": "code",
      "source": [
        "model.compile(\n",
        "    loss = 'binary_crossentropy',\n",
        "    optimizer = 'adam',\n",
        "    metrics = ['accuracy']\n",
        ")"
      ],
      "metadata": {
        "id": "ySfkHuj9QV4_"
      },
      "execution_count": null,
      "outputs": []
    },
    {
      "cell_type": "code",
      "source": [
        "# Nauka modelu\n",
        "history = model.fit(train_generator,\n",
        "          epochs = 4,\n",
        "          validation_data = validation_generator)"
      ],
      "metadata": {
        "id": "-dDjOvBRQV-6"
      },
      "execution_count": null,
      "outputs": []
    },
    {
      "cell_type": "code",
      "source": [
        "from keras.preprocessing import image\n",
        "\n",
        "test_image = image.load_img('/content/kot.jpg',target_size = (150,150))\n",
        "\n",
        "plt.imshow(test_image)\n",
        "test_image = image.img_to_array(test_image)\n",
        "test_image = np.expand_dims(test_image,axis = 0)\n",
        "\n",
        "result = model.predict(test_image)\n",
        "print(result)\n",
        "\n",
        "i = 0\n",
        "if(result> = 0.5):\n",
        "  print(\"Dog\")\n",
        "else:\n",
        "  print(\"Cat\")"
      ],
      "metadata": {
        "id": "gnXXbqqsQWB7"
      },
      "execution_count": null,
      "outputs": []
    },
    {
      "cell_type": "code",
      "source": [
        "# Użycie modelu do zescrapowanych zdjęć\n",
        "import zipfile\n",
        "import os\n",
        "import pandas as pd\n",
        "import numpy as np\n",
        "from keras.preprocessing import image\n",
        "import matplotlib.pyplot as plt"
      ],
      "metadata": {
        "id": "FT0gQWedQWE7"
      },
      "execution_count": null,
      "outputs": []
    },
    {
      "cell_type": "code",
      "source": [
        "# Rozpakowanie ZIP\n",
        "uploaded_zip_path = \"images_4.zip\"\n",
        "\n",
        "target_folder = \"/content/images_4\"\n",
        "\n",
        "os.makedirs(target_folder, exist_ok = True)\n",
        "\n",
        "with zipfile.ZipFile(uploaded_zip_path, 'r') as zip_ref:\n",
        "    zip_ref.extractall(target_folder)\n",
        "\n",
        "print(f\"Pliki zostały rozpakowane do folderu: {target_folder}\")"
      ],
      "metadata": {
        "id": "ElaFCt3mQWHy"
      },
      "execution_count": null,
      "outputs": []
    },
    {
      "cell_type": "code",
      "source": [
        "folder_path = '/content/images_4'\n",
        "\n",
        "image_files = [f for f in os.listdir(folder_path) if f.endswith(('.png', '.jpg', '.jpeg'))]\n",
        "\n",
        "results_df = pd.DataFrame(columns = ['zdjecie', 'gatunek'])\n",
        "\n",
        "# Iteracja przez wszystkie obrazy w folderze\n",
        "for img_file in image_files:\n",
        "    img_path = os.path.join(folder_path, img_file)\n",
        "\n",
        "    # Ładowanie obrazu\n",
        "    test_image = image.load_img(img_path, target_size = (150, 150))\n",
        "    test_image = image.img_to_array(test_image)\n",
        "    test_image = np.expand_dims(test_image, axis = 0)\n",
        "\n",
        "    # Przewidywanie klasy obrazu\n",
        "    result = model.predict(test_image)\n",
        "\n",
        "    # Mapowanie wyniku na kategorię\n",
        "    prediction = \"pies\" if result >= 0.5 else \"kot\"\n",
        "\n",
        "    # Dodanie wyniku do DataFrame\n",
        "    results_df = pd.concat([results_df, pd.DataFrame({'zdjecie': [img_file], 'gatunek': [prediction], 'result':[result]})], ignore_index=True)\n",
        "\n",
        "# Wyświetlenie wyników\n",
        "print(results_df)\n",
        "\n",
        "# Zapis wyników do pliku CSV\n",
        "#results_df.to_csv('predictions.csv', index = False)"
      ],
      "metadata": {
        "id": "PTj5yFkJQWKq"
      },
      "execution_count": null,
      "outputs": []
    },
    {
      "cell_type": "code",
      "source": [
        "results_df['numer'] = results_df['zdjecie'].str.extract(r'_(\\d+)', expand = False).astype(int)\n",
        "results_df = results_df.sort_values(by = 'numer', ascending = True).reset_index(drop = True)\n",
        "results_df.head()"
      ],
      "metadata": {
        "id": "R44OIgIZQWNi"
      },
      "execution_count": null,
      "outputs": []
    },
    {
      "cell_type": "code",
      "source": [
        "# Dodanie kolumny z gatunkiem do bazy danych\n",
        "#pets_data_4 - to jeden z 4 zescrapowanych plików (4 ze względu na to, że program nie pozwalał nam jednocześnie pobrać odpowiedniej ilości danych, więc musiałyśmy zrobić to w 4 turach)\n",
        "df = pd.read_csv('pets_data_4.csv')\n",
        "df_polaczone_4 = pd.concat([df, results_df[['zdjecie', 'gatunek']]], axis = 1)\n",
        "df_polaczone_4.head()"
      ],
      "metadata": {
        "id": "a7Z2GqIeQWQQ"
      },
      "execution_count": null,
      "outputs": []
    },
    {
      "cell_type": "code",
      "source": [
        "uploaded_zip_path = \"images_1.zip\"\n",
        "\n",
        "target_folder = \"/content/images_1\"\n",
        "\n",
        "os.makedirs(target_folder, exist_ok = True)\n",
        "\n",
        "with zipfile.ZipFile(uploaded_zip_path, 'r') as zip_ref:\n",
        "    zip_ref.extractall(target_folder)\n",
        "\n",
        "print(f\"Pliki zostały rozpakowane do folderu: {target_folder}\")\n",
        "\n",
        "folder_path = '/content/images_1'\n",
        "\n",
        "image_files = [f for f in os.listdir(folder_path) if f.endswith(('.png', '.jpg', '.jpeg'))]\n",
        "\n",
        "results_df = pd.DataFrame(columns = ['zdjecie', 'gatunek'])\n",
        "\n",
        "for img_file in image_files:\n",
        "    img_path = os.path.join(folder_path, img_file)\n",
        "\n",
        "    test_image = image.load_img(img_path, target_size = (150, 150))\n",
        "    test_image = image.img_to_array(test_image)\n",
        "    test_image = np.expand_dims(test_image, axis = 0)\n",
        "\n",
        "    result = model.predict(test_image)\n",
        "\n",
        "    prediction = \"pies\" if result >= 0.5 else \"kot\"\n",
        "\n",
        "    results_df = pd.concat([results_df, pd.DataFrame({'zdjecie': [img_file], 'gatunek': [prediction], 'result':[result]})], ignore_index=True)\n",
        "\n",
        "results_df['numer'] = results_df['zdjecie'].str.extract(r'_(\\d+)', expand = False).astype(int)\n",
        "results_df = results_df.sort_values(by = 'numer', ascending = True).reset_index(drop = True)\n",
        "results_df.head()\n",
        "\n",
        "df = pd.read_csv('pets_data_1.csv')\n",
        "df_polaczone_1 = pd.concat([df, results_df[['zdjecie', 'gatunek']]], axis = 1)"
      ],
      "metadata": {
        "id": "9TPcGdMLQ_Nb"
      },
      "execution_count": null,
      "outputs": []
    },
    {
      "cell_type": "code",
      "source": [
        "uploaded_zip_path = \"images_2.zip\"\n",
        "\n",
        "target_folder = \"/content/images_2\"\n",
        "\n",
        "os.makedirs(target_folder, exist_ok = True)\n",
        "\n",
        "with zipfile.ZipFile(uploaded_zip_path, 'r') as zip_ref:\n",
        "    zip_ref.extractall(target_folder)\n",
        "\n",
        "print(f\"Pliki zostały rozpakowane do folderu: {target_folder}\")\n",
        "\n",
        "folder_path = '/content/images_2'\n",
        "\n",
        "image_files = [f for f in os.listdir(folder_path) if f.endswith(('.png', '.jpg', '.jpeg'))]\n",
        "\n",
        "results_df = pd.DataFrame(columns = ['zdjecie', 'gatunek'])\n",
        "\n",
        "for img_file in image_files:\n",
        "    img_path = os.path.join(folder_path, img_file)\n",
        "\n",
        "    test_image = image.load_img(img_path, target_size = (150, 150))\n",
        "    test_image = image.img_to_array(test_image)\n",
        "    test_image = np.expand_dims(test_image, axis = 0)\n",
        "\n",
        "    result = model.predict(test_image)\n",
        "\n",
        "    prediction = \"pies\" if result >= 0.5 else \"kot\"\n",
        "\n",
        "    results_df = pd.concat([results_df, pd.DataFrame({'zdjecie': [img_file], 'gatunek': [prediction], 'result':[result]})], ignore_index=True)\n",
        "\n",
        "results_df['numer'] = results_df['zdjecie'].str.extract(r'_(\\d+)', expand = False).astype(int)\n",
        "results_df = results_df.sort_values(by = 'numer', ascending = True).reset_index(drop = True)\n",
        "results_df.head()\n",
        "\n",
        "df = pd.read_csv('pets_data_2.csv')\n",
        "df_polaczone_2 = pd.concat([df, results_df[['zdjecie', 'gatunek']]], axis = 1)"
      ],
      "metadata": {
        "id": "GusMIMR-Q_Q1"
      },
      "execution_count": null,
      "outputs": []
    },
    {
      "cell_type": "code",
      "source": [
        "uploaded_zip_path = \"images_3.zip\"\n",
        "\n",
        "target_folder = \"/content/images_3\"\n",
        "\n",
        "os.makedirs(target_folder, exist_ok = True)\n",
        "\n",
        "with zipfile.ZipFile(uploaded_zip_path, 'r') as zip_ref:\n",
        "    zip_ref.extractall(target_folder)\n",
        "\n",
        "print(f\"Pliki zostały rozpakowane do folderu: {target_folder}\")\n",
        "\n",
        "folder_path = '/content/images_3'\n",
        "\n",
        "image_files = [f for f in os.listdir(folder_path) if f.endswith(('.png', '.jpg', '.jpeg'))]\n",
        "\n",
        "results_df = pd.DataFrame(columns = ['zdjecie', 'gatunek'])\n",
        "\n",
        "for img_file in image_files:\n",
        "    img_path = os.path.join(folder_path, img_file)\n",
        "\n",
        "    test_image = image.load_img(img_path, target_size = (150, 150))\n",
        "    test_image = image.img_to_array(test_image)\n",
        "    test_image = np.expand_dims(test_image, axis = 0)\n",
        "\n",
        "    result = model.predict(test_image)\n",
        "\n",
        "    prediction = \"pies\" if result >= 0.5 else \"kot\"\n",
        "\n",
        "    results_df = pd.concat([results_df, pd.DataFrame({'zdjecie': [img_file], 'gatunek': [prediction], 'result':[result]})], ignore_index=True)\n",
        "\n",
        "results_df['numer'] = results_df['zdjecie'].str.extract(r'_(\\d+)', expand = False).astype(int)\n",
        "results_df = results_df.sort_values(by = 'numer', ascending = True).reset_index(drop = True)\n",
        "results_df.head()\n",
        "\n",
        "df = pd.read_csv('pets_data_3.csv')\n",
        "df_polaczone_3 = pd.concat([df, results_df[['zdjecie', 'gatunek']]], axis = 1)"
      ],
      "metadata": {
        "id": "60c3FmwpQ_Ss"
      },
      "execution_count": null,
      "outputs": []
    },
    {
      "cell_type": "code",
      "source": [
        "# My miałyśmy 4 pliki csv, więc musiałyśmy to na koniec połączyć\n",
        "df_cale = pd.concat([df_polaczone_1, df_polaczone_2, df_polaczone_3, df_polaczone_4], ignore_index = True)"
      ],
      "metadata": {
        "id": "69wb3576Q_U0"
      },
      "execution_count": null,
      "outputs": []
    },
    {
      "cell_type": "code",
      "source": [
        "# Pobranie pliku gotowego do dalszego etapu\n",
        "df_cale.to_csv('dane_cale.csv', index = False)"
      ],
      "metadata": {
        "id": "patGjJyPQ_XO"
      },
      "execution_count": null,
      "outputs": []
    },
    {
      "cell_type": "code",
      "source": [
        "# Przykład\n",
        "from keras.preprocessing import image\n",
        "\n",
        "test_image = image.load_img('/content/kot.jpg',target_size = (150, 150))\n",
        "\n",
        "plt.imshow(test_image)\n",
        "test_image = image.img_to_array(test_image)\n",
        "test_image = np.expand_dims(test_image,axis=0)\n",
        "\n",
        "result = model.predict(test_image)\n",
        "print(result)\n",
        "\n",
        "i = 0\n",
        "if(result >= 0.5):\n",
        "  print(\"pies\")\n",
        "else:\n",
        "  print(\"kot\")"
      ],
      "metadata": {
        "id": "TKqEe3-xQ_aG"
      },
      "execution_count": null,
      "outputs": []
    }
  ]
}